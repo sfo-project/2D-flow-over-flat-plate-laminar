{
 "cells": [
  {
   "cell_type": "markdown",
   "metadata": {},
   "source": [
    "# Fluent\n",
    "A general methodological/scientific approach to develop and process a CFD simulation in ANSYS FLUENT for 2D laminar flow over a flat plate is explained and discussed here.\n",
    "\n",
    "<img src=\"./Images/cover_photo.png\" width=\"500\">\n",
    "\n",
    "The four major steps to develop a CFD simulation case for any fluid mechanics consists the following four steps:\n",
    "\n",
    "1. **[CFD Problem's Physics & Theory](./Physics.ipynb)**\n",
    "\n",
    "2. **[CFD Domain's Creation & Discretization](./Domain.ipynb)**\n",
    "\n",
    "3. **[CFD Simulation Case Setup](./Simulation.ipynb)**\n",
    "\n",
    "4. **[CFD Results Post-Process](./Post_Process.ipynb)**\n",
    "\n",
    "This wiki includes the explanation of the above-mentioned steps for the problem of Laminar Flow over a flat plate.\n"
   ]
  }
 ],
 "metadata": {
  "kernelspec": {
   "display_name": "Python 3",
   "language": "python",
   "name": "python3"
  },
  "language_info": {
   "codemirror_mode": {
    "name": "ipython",
    "version": 3
   },
   "file_extension": ".py",
   "mimetype": "text/x-python",
   "name": "python",
   "nbconvert_exporter": "python",
   "pygments_lexer": "ipython3",
   "version": "3.5.1"
  }
 },
 "nbformat": 4,
 "nbformat_minor": 0
}
