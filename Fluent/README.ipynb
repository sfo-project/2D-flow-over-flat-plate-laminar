{
 "cells": [
  {
   "cell_type": "markdown",
   "metadata": {},
   "source": [
    "**[Problem's Physics & Theory](./Physics.ipynb)** | **[Simulation Case Setup](./Simulation.ipynb)** | **[Domain's Creation & Discretization](./Domain.ipynb)** | **[Results Post-Process](./Post_Process.ipynb)**\n",
    "------------- | ------------- | ------------- | --------\n",
    "<img src=\"./Images/fig.9.1.png\" width=\"250\"> | <img src=\"./Images/velocity_cont_var_Re.png\" width=\"250\"> | <img src=\"./Images/CFD_domain_meshed.png\" width=\"250\"> | <img src=\"./Images/similarity_soln.png\" width=\"250\">"
   ]
  }
 ],
 "metadata": {
  "kernelspec": {
   "display_name": "Python 3",
   "language": "python",
   "name": "python3"
  },
  "language_info": {
   "codemirror_mode": {
    "name": "ipython",
    "version": 3
   },
   "file_extension": ".py",
   "mimetype": "text/x-python",
   "name": "python",
   "nbconvert_exporter": "python",
   "pygments_lexer": "ipython3",
   "version": "3.5.1"
  }
 },
 "nbformat": 4,
 "nbformat_minor": 0
}
