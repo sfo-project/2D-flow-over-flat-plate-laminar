{
 "cells": [
  {
   "cell_type": "markdown",
   "metadata": {},
   "source": [
    "**[1. Problem's Physics & Theory](./Physics.ipynb)** | **[2. Domain's Creation & Discretization](./Domain.ipynb)**\n",
    "------------- | -------------\n",
    "<img src=\"./Images/fig.9.1.png\" width=\"350\"> | <img src=\"./Images/CFD_domain_meshed.png\" width=\"350\">\n",
    "**[3. Simulation Case Setup](./Simulation.ipynb)** | **[4. Results Post-Process](./Post_Process.ipynb)**\n",
    "<img src=\"./Images/velocity_cont_var_Re.png\" width=\"350\"> | <img src=\"./Images/similarity_soln.png\" width=\"350\">"
   ]
  }
 ],
 "metadata": {
  "kernelspec": {
   "display_name": "Python 3",
   "language": "python",
   "name": "python3"
  },
  "language_info": {
   "codemirror_mode": {
    "name": "ipython",
    "version": 3
   },
   "file_extension": ".py",
   "mimetype": "text/x-python",
   "name": "python",
   "nbconvert_exporter": "python",
   "pygments_lexer": "ipython3",
   "version": "3.5.1"
  }
 },
 "nbformat": 4,
 "nbformat_minor": 0
}
