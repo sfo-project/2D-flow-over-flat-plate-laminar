{
 "cells": [
  {
   "cell_type": "markdown",
   "metadata": {},
   "source": [
    "# 2D Laminar Flow Over Flat Plate\n",
    "<img src=\"cover_photo.png\" width=\"500\">\n",
    "- [STAR-CCM+ (coming soon!)](./Star_CCM_Plus/README.ipynb)\n",
    "- [FLUENT](./Fluent/README.ipynb)\n",
    "- [OpenFOAM](./Open_Foam/README.ipynb)"
   ]
  }
 ],
 "metadata": {
  "kernelspec": {
   "display_name": "Python 3",
   "language": "python",
   "name": "python3"
  },
  "language_info": {
   "codemirror_mode": {
    "name": "ipython",
    "version": 3
   },
   "file_extension": ".py",
   "mimetype": "text/x-python",
   "name": "python",
   "nbconvert_exporter": "python",
   "pygments_lexer": "ipython3",
   "version": "3.5.1"
  }
 },
 "nbformat": 4,
 "nbformat_minor": 0
}
